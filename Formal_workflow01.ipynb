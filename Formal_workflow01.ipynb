{
 "cells": [
  {
   "cell_type": "code",
   "execution_count": 40,
   "metadata": {},
   "outputs": [],
   "source": [
    "import torch \n",
    "from torch import nn\n",
    "import matplotlib.pyplot as plt\n",
    "import numpy as np"
   ]
  },
  {
   "cell_type": "markdown",
   "metadata": {},
   "source": [
    "# Use gpu if available\n"
   ]
  },
  {
   "cell_type": "code",
   "execution_count": 41,
   "metadata": {},
   "outputs": [
    {
     "name": "stdout",
     "output_type": "stream",
     "text": [
      "Using: cuda\n"
     ]
    }
   ],
   "source": [
    "if torch.cuda.is_available():\n",
    "    device = 'cuda'\n",
    "else: \n",
    "    device='cpu'\n",
    "print(\"Using: \"+ device)"
   ]
  },
  {
   "cell_type": "markdown",
   "metadata": {},
   "source": [
    "# Data prep\n",
    "* Using linear regression \n",
    "* Step 1 in ML_process\n",
    "y = wight * X + bias (y=mx+b) "
   ]
  },
  {
   "cell_type": "code",
   "execution_count": 42,
   "metadata": {},
   "outputs": [
    {
     "data": {
      "text/plain": [
       "(tensor([[0.0000],\n",
       "         [0.0200],\n",
       "         [0.0400],\n",
       "         [0.0600],\n",
       "         [0.0800],\n",
       "         [0.1000],\n",
       "         [0.1200],\n",
       "         [0.1400],\n",
       "         [0.1600],\n",
       "         [0.1800]]),\n",
       " tensor([[0.3000],\n",
       "         [0.3140],\n",
       "         [0.3280],\n",
       "         [0.3420],\n",
       "         [0.3560],\n",
       "         [0.3700],\n",
       "         [0.3840],\n",
       "         [0.3980],\n",
       "         [0.4120],\n",
       "         [0.4260]]))"
      ]
     },
     "execution_count": 42,
     "metadata": {},
     "output_type": "execute_result"
    }
   ],
   "source": [
    "weight = .7\n",
    "bias = .3\n",
    "\n",
    "# create the range\n",
    "X = torch.arange(0,1,.02).unsqueeze(dim=1) # remember to unsquezze or errors will happen\n",
    "y = weight * X + bias # setting the linear regression \n",
    "X[:10], y[:10] # prints the first 10 of each"
   ]
  },
  {
   "cell_type": "markdown",
   "metadata": {},
   "source": [
    "# Splitting the data\n",
    "* also part of step 1 in ML process"
   ]
  },
  {
   "cell_type": "code",
   "execution_count": 43,
   "metadata": {},
   "outputs": [
    {
     "data": {
      "text/plain": [
       "(torch.Size([40, 1]),\n",
       " torch.Size([40, 1]),\n",
       " torch.Size([10, 1]),\n",
       " torch.Size([10, 1]))"
      ]
     },
     "execution_count": 43,
     "metadata": {},
     "output_type": "execute_result"
    }
   ],
   "source": [
    "train_split = int(0.8 * len(X)) # puts 80% of data in training\n",
    "X_train, y_train = X[:train_split], y[:train_split] # puts the first 80% of X in X_train (same thing happens for Y_train)\n",
    "X_test, y_test = X[train_split:], y[train_split:] # puts the remaining in to the respective places\n",
    "X_train.shape, y_train.shape, X_test.shape, y_test.shape # checking the values"
   ]
  },
  {
   "cell_type": "markdown",
   "metadata": {},
   "source": [
    "# Plotting"
   ]
  },
  {
   "cell_type": "code",
   "execution_count": 44,
   "metadata": {},
   "outputs": [],
   "source": [
    "# plotting the data\n",
    "def plot_predictions(train_data = X_train,\n",
    "                     train_label = y_train, \n",
    "                     test_data = X_test,\n",
    "                     test_label = y_test,\n",
    "                     predictions = None):\n",
    "    plt.figure(figsize=(10,7))\n",
    "\n",
    "    # Training date (blue)\n",
    "    plt.scatter(train_data,\n",
    "                train_label,\n",
    "                c='blue',\n",
    "                s=4,\n",
    "                label= \"Training data\")\n",
    "    # Testing data (green)\n",
    "    plt.scatter(test_data,\n",
    "                test_label,\n",
    "                c='green',\n",
    "                s=4,\n",
    "                label=\"Testing data\")\n",
    "    # Prediction data (red)\n",
    "    if predictions is not None: \n",
    "        plt.scatter(test_data,\n",
    "                    predictions,\n",
    "                    c='red',\n",
    "                    s=4,\n",
    "                    label=\"Predictions\")\n",
    "    plt.legend()"
   ]
  },
  {
   "cell_type": "code",
   "execution_count": 45,
   "metadata": {},
   "outputs": [
    {
     "data": {
      "image/png": "[encoded data removed]",
      "text/plain": [
       "<Figure size 1000x700 with 1 Axes>"
      ]
     },
     "metadata": {},
     "output_type": "display_data"
    }
   ],
   "source": [
    "plot_predictions(X_train, y_train,X_test,y_test)"
   ]
  },
  {
   "cell_type": "markdown",
   "metadata": {},
   "source": [
    "# LinearRegressionModel \n",
    "* creating a linear model by using a sub classing nn.Model\n",
    "* step 1 of ML process"
   ]
  },
  {
   "cell_type": "code",
   "execution_count": 46,
   "metadata": {},
   "outputs": [
    {
     "data": {
      "text/plain": [
       "(LinearRegressionModelV2(\n",
       "   (linear_layer): Linear(in_features=1, out_features=1, bias=True)\n",
       " ),\n",
       " OrderedDict([('linear_layer.weight', tensor([[0.7645]])),\n",
       "              ('linear_layer.bias', tensor([0.8300]))]))"
      ]
     },
     "execution_count": 46,
     "metadata": {},
     "output_type": "execute_result"
    }
   ],
   "source": [
    "class LinearRegressionModelV2(nn.Module):\n",
    "    def __init__(self): # constructor\n",
    "        super().__init__() # initialize the constructor \n",
    "\n",
    "        # use nn.Linear() for creating the model parameters / also called: linear transform, probing layer, etc... \n",
    "        # This is using a pre-existing model \n",
    "        self.linear_layer = nn.Linear(in_features=1, # takes in input of size 1\n",
    "                                      out_features=1) # output of size 1\n",
    "\n",
    "        \n",
    "    def forward(self, x: torch.Tensor) -> torch.Tensor:\n",
    "        return self.linear_layer(x)\n",
    "torch.manual_seed(42)\n",
    "model_1 = LinearRegressionModelV2()\n",
    "model_1, model_1.state_dict()"
   ]
  },
  {
   "cell_type": "markdown",
   "metadata": {},
   "source": [
    "# Training the data\n",
    "Step 2 ML process:\n",
    "* loss function (2.1)\n",
    "* Optimizer (2.1)\n",
    "* Training loop (2.2)\n",
    "* Testing loop (2.2)\n"
   ]
  },
  {
   "cell_type": "code",
   "execution_count": 47,
   "metadata": {},
   "outputs": [
    {
     "data": {
      "text/plain": [
       "device(type='cuda', index=0)"
      ]
     },
     "execution_count": 47,
     "metadata": {},
     "output_type": "execute_result"
    }
   ],
   "source": [
    "# moving the model to the gpu if available\n",
    "model_1.to(device)\n",
    "next(model_1.parameters()).device"
   ]
  },
  {
   "cell_type": "code",
   "execution_count": 48,
   "metadata": {},
   "outputs": [],
   "source": [
    "# setting up loss function 2.1\n",
    "loss_fn = nn.L1Loss()\n",
    "\n",
    "# setting optimizer 2.1\n",
    "optimizer = torch.optim.SGD(params=model_1.parameters(),\n",
    "                            lr=0.01)"
   ]
  },
  {
   "cell_type": "code",
   "execution_count": 49,
   "metadata": {},
   "outputs": [
    {
     "data": {
      "text/plain": [
       "tensor([[0.8300],\n",
       "        [0.8453],\n",
       "        [0.8606],\n",
       "        [0.8759],\n",
       "        [0.8912]], device='cuda:0')"
      ]
     },
     "execution_count": 49,
     "metadata": {},
     "output_type": "execute_result"
    }
   ],
   "source": [
    "# setting up the predictions\n",
    "with torch.inference_mode():\n",
    "    y_preds = model_1(X_train.to(device)) # all device must be on the same one.\n",
    "y_preds[:5]"
   ]
  },
  {
   "cell_type": "markdown",
   "metadata": {},
   "source": [
    "# Training Loop \n",
    "step 2.2"
   ]
  },
  {
   "cell_type": "code",
   "execution_count": 58,
   "metadata": {},
   "outputs": [
    {
     "name": "stdout",
     "output_type": "stream",
     "text": [
      "Epoch: 0 | Loss: 0.007557580713182688 | Test Loss: 0.0013417780864983797\n",
      "Epoch: 10 | Loss: 0.007557580713182688 | Test Loss: 0.0013417780864983797\n",
      "Epoch: 20 | Loss: 0.007557580713182688 | Test Loss: 0.0013417780864983797\n",
      "Epoch: 30 | Loss: 0.007557580713182688 | Test Loss: 0.0013417780864983797\n",
      "Epoch: 40 | Loss: 0.007557580713182688 | Test Loss: 0.0013417780864983797\n",
      "Epoch: 50 | Loss: 0.007557580713182688 | Test Loss: 0.0013417780864983797\n",
      "Epoch: 60 | Loss: 0.007557580713182688 | Test Loss: 0.0013417780864983797\n",
      "Epoch: 70 | Loss: 0.007557580713182688 | Test Loss: 0.0013417780864983797\n",
      "Epoch: 80 | Loss: 0.007557580713182688 | Test Loss: 0.0013417780864983797\n",
      "Epoch: 90 | Loss: 0.007557580713182688 | Test Loss: 0.0013417780864983797\n",
      "Epoch: 100 | Loss: 0.007557580713182688 | Test Loss: 0.0013417780864983797\n",
      "Epoch: 110 | Loss: 0.007557580713182688 | Test Loss: 0.0013417780864983797\n",
      "Epoch: 120 | Loss: 0.007557580713182688 | Test Loss: 0.0013417780864983797\n",
      "Epoch: 130 | Loss: 0.007557580713182688 | Test Loss: 0.0013417780864983797\n",
      "Epoch: 140 | Loss: 0.007557580713182688 | Test Loss: 0.0013417780864983797\n",
      "Epoch: 150 | Loss: 0.007557580713182688 | Test Loss: 0.0013417780864983797\n",
      "Epoch: 160 | Loss: 0.007557580713182688 | Test Loss: 0.0013417780864983797\n",
      "Epoch: 170 | Loss: 0.007557580713182688 | Test Loss: 0.0013417780864983797\n",
      "Epoch: 180 | Loss: 0.007557580713182688 | Test Loss: 0.0013417780864983797\n",
      "Epoch: 190 | Loss: 0.007557580713182688 | Test Loss: 0.0013417780864983797\n"
     ]
    }
   ],
   "source": [
    "# training loop\n",
    "torch.manual_seed(42)\n",
    "\n",
    "epochs = 200\n",
    "# putting data on device\n",
    "X_train = X_train.to(device)\n",
    "y_train = y_train.to(device)\n",
    "X_test = X_test.to(device)\n",
    "y_test = y_test.to(device)\n",
    "\n",
    "for epoch in range(epochs):\n",
    "    model_1.train() # built in train in pytorch\n",
    "\n",
    "    # 1. forward pass\n",
    "    y_preds = model_1(X_train)\n",
    "\n",
    "    # 2. calculating the loss\n",
    "    loss = loss_fn(y_preds, y_train)\n",
    "\n",
    "    # 3. optimizer.zero_grad()\n",
    "    optimizer.zero_grad()  # clear the gradients from the last step (if any)\n",
    "    \n",
    "    # 4. perform backpropagation \n",
    "    loss.backward()\n",
    "\n",
    "    # 5. optimizer step \n",
    "    optimizer.step() # this is what decides which way to move so that it can become closer to the hyperparameters (weight, bias)\n",
    "\n",
    "    # Testing\n",
    "    model_1.eval() # always put this when testing (good practice)\n",
    "    with torch.inference_mode():\n",
    "        test_pred = model_1 (X_test) # repeat step 1 with testing data\n",
    "        test_loss = loss_fn(test_pred, y_test) # repeating step 2 with testing data\n",
    "\n",
    "        if epoch % 10 == 0:\n",
    "            print(f\"Epoch: {epoch} | Loss: {loss} | Test Loss: {test_loss}\") \n",
    "\n",
    "    "
   ]
  },
  {
   "cell_type": "code",
   "execution_count": 59,
   "metadata": {},
   "outputs": [
    {
     "data": {
      "text/plain": [
       "(OrderedDict([('linear_layer.weight', tensor([[0.6909]], device='cuda:0')),\n",
       "              ('linear_layer.bias', tensor([0.2960], device='cuda:0'))]),\n",
       " 0.7,\n",
       " 0.3)"
      ]
     },
     "execution_count": 59,
     "metadata": {},
     "output_type": "execute_result"
    }
   ],
   "source": [
    "model_1.state_dict(), weight, bias"
   ]
  },
  {
   "cell_type": "code",
   "execution_count": 60,
   "metadata": {},
   "outputs": [
    {
     "data": {
      "image/png": "[encoded data removed]",
      "text/plain": [
       "<Figure size 1000x700 with 1 Axes>"
      ]
     },
     "metadata": {},
     "output_type": "display_data"
    }
   ],
   "source": [
    "# visualizing how close we are\n",
    "plot_predictions(predictions = test_pred.cpu())"
   ]
  },
  {
   "cell_type": "markdown",
   "metadata": {},
   "source": [
    "# Saving and loading the model"
   ]
  }
 ],
 "metadata": {
  "kernelspec": {
   "display_name": "Python 3",
   "language": "python",
   "name": "python3"
  },
  "language_info": {
   "codemirror_mode": {
    "name": "ipython",
    "version": 3
   },
   "file_extension": ".py",
   "mimetype": "text/x-python",
   "name": "python",
   "nbconvert_exporter": "python",
   "pygments_lexer": "ipython3",
   "version": "3.11.9"
  }
 },
 "nbformat": 4,
 "nbformat_minor": 2
}
